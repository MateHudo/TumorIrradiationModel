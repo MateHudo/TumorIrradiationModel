{
 "cells": [
  {
   "cell_type": "markdown",
   "id": "84307817",
   "metadata": {},
   "source": [
    "import clasic libraries"
   ]
  },
  {
   "cell_type": "code",
   "execution_count": 2,
   "id": "3ed906e0",
   "metadata": {},
   "outputs": [],
   "source": [
    "import numpy as np\n",
    "import matplotlib.pyplot as plt\n",
    "from scipy.optimize import linprog\n",
    "from matplotlib import colors\n"
   ]
  },
  {
   "cell_type": "markdown",
   "id": "75a6984c",
   "metadata": {},
   "source": [
    "import python scripts and imporlib"
   ]
  },
  {
   "cell_type": "code",
   "execution_count": 6,
   "id": "f09baec4",
   "metadata": {},
   "outputs": [],
   "source": [
    "import importlib\n",
    "import py_scripts  # python scripts"
   ]
  },
  {
   "cell_type": "markdown",
   "id": "9da4fb9c",
   "metadata": {},
   "source": [
    "import files, functions, classes"
   ]
  },
  {
   "cell_type": "code",
   "execution_count": 12,
   "id": "0b47d863",
   "metadata": {},
   "outputs": [],
   "source": [
    "from py_scripts.upscale_matrix import upscale_matrix\n"
   ]
  },
  {
   "cell_type": "markdown",
   "id": "e4ccaa8a",
   "metadata": {},
   "source": [
    "define upscale matrix"
   ]
  },
  {
   "cell_type": "code",
   "execution_count": 13,
   "id": "51f6b113",
   "metadata": {},
   "outputs": [
    {
     "name": "stdout",
     "output_type": "stream",
     "text": [
      "Upscaled Matrix:\n",
      " [[1 1 2 2]\n",
      " [1 1 2 2]\n",
      " [3 3 4 4]\n",
      " [3 3 4 4]]\n"
     ]
    }
   ],
   "source": [
    "# Example usage of upscale_matrix\n",
    "\n",
    "#upscale_matrix(2, 3) -> 3x3 matrix of 2s\n",
    "matrix = np.array([[1, 2], [3, 4]])\n",
    "matrix_upscaled = upscale_matrix(matrix, 2)\n",
    "print(\"Upscaled Matrix:\\n\", matrix_upscaled)\n"
   ]
  },
  {
   "cell_type": "markdown",
   "id": "3d791e6a",
   "metadata": {},
   "source": [
    "theory"
   ]
  },
  {
   "cell_type": "code",
   "execution_count": 3,
   "id": "77fd4fc9",
   "metadata": {},
   "outputs": [
    {
     "data": {
      "text/plain": [
       "'\\nLets explain in more detail how we will use linear programming to solve this problem:\\n1. We are irradiatin tissue matrix with radiation beams. \\n2. Tissue shape is (at least for now) rectangular matrix with rows and columns - (Nrows, Ncols).\\n3. Beams are narrow (\"pencil-like\") and can be placed along rows and columns of the matrix.\\n4. Each beam will irradiate all cells in its row and column - and nothing else (no scatter ect).\\n5. Beams in our first example are placed only left from and above the tumor cells - so we have Nrows + Ncols beams. \\n5. We will use linear programming to optimize the beam intensities such that:\\n    - tumor cells receive at least a minimum dose of radiation (MinDoseTumorCells) \\n    - healthy cells receive no more than a maximum dose of radiation (MaxDoseHealthyCells)\\n6. The objective function will minimize the total dose to healthy cells, which is represented by the cost function coefficients (c vector).\\n7. The constraints will ensure that tumor cells receive the required minimum dose and healthy cells do not exceed the maximum dose.\\n8. We are searching for beam intensities that satisfy these conditions, lets denote them as BeamIntensities.\\n9. BeamIntensities will be a vector of length Nrows + Ncols, where each element represents the intensity of a beam.\\n10. The solution will provide the optimal beam intensities that satisfy these conditions.\\n'"
      ]
     },
     "execution_count": 3,
     "metadata": {},
     "output_type": "execute_result"
    }
   ],
   "source": [
    "\"\"\"\n",
    "# Tissue matrix representing tumor and healthy cells\n",
    "- 0 = healthy cell\n",
    "- 1 = tumor cell\n",
    "\"\"\"\n",
    "\n",
    "\"\"\"\n",
    "Lets explain in more detail how we will use linear programming to solve this problem:\n",
    "1. We are irradiatin tissue matrix with radiation beams. \n",
    "2. Tissue shape is (at least for now) rectangular matrix with rows and columns - (Nrows, Ncols).\n",
    "3. Beams are narrow (\"pencil-like\") and can be placed along rows and columns of the matrix.\n",
    "4. Each beam will irradiate all cells in its row and column - and nothing else (no scatter ect).\n",
    "5. Beams in our first example are placed only left from and above the tumor cells - so we have Nrows + Ncols beams. \n",
    "5. We will use linear programming to optimize the beam intensities such that:\n",
    "    - tumor cells receive at least a minimum dose of radiation (MinDoseTumorCells) \n",
    "    - healthy cells receive no more than a maximum dose of radiation (MaxDoseHealthyCells)\n",
    "6. The objective function will minimize the total dose to healthy cells, which is represented by the cost function coefficients (c vector).\n",
    "7. The constraints will ensure that tumor cells receive the required minimum dose and healthy cells do not exceed the maximum dose.\n",
    "8. We are searching for beam intensities that satisfy these conditions, lets denote them as BeamIntensities.\n",
    "9. BeamIntensities will be a vector of length Nrows + Ncols, where each element represents the intensity of a beam.\n",
    "10. The solution will provide the optimal beam intensities that satisfy these conditions.\n",
    "\"\"\"\n",
    "\n",
    "\n"
   ]
  },
  {
   "cell_type": "markdown",
   "id": "e513f801",
   "metadata": {},
   "source": [
    "---"
   ]
  },
  {
   "cell_type": "markdown",
   "id": "def54210",
   "metadata": {},
   "source": [
    "Intermezzo:\n",
    " - the system seems to be much underdetermined\n",
    " - there are 4N beams = parameters\n",
    " - for them, only as many equations as there are tumor cells, unless we add aditional conditions\n",
    " - if N_tumor < 4N, --> underdetermined system\n",
    " -\n",
    " [[Was talking to ChatGPT and it pointed out this, so something big to consider]]"
   ]
  },
  {
   "cell_type": "markdown",
   "id": "589f6526",
   "metadata": {},
   "source": [
    "--------------\n",
    "----------------\n"
   ]
  },
  {
   "cell_type": "code",
   "execution_count": 6,
   "id": "0f41002d",
   "metadata": {},
   "outputs": [],
   "source": [
    "# import npy file from the folder\n",
    "SIF_expanded = np.load('SIF_expanded.npy')\n",
    "### SIF = Simulation Irradioation Factors"
   ]
  },
  {
   "cell_type": "markdown",
   "id": "b63a7c57",
   "metadata": {},
   "source": [
    "Class TissueIrradiation"
   ]
  },
  {
   "cell_type": "code",
   "execution_count": null,
   "id": "26ee7ee7",
   "metadata": {},
   "outputs": [],
   "source": [
    "class TissueIrradiationProblem:\n",
    "    def __init__(self, tissue_matrix): \n",
    "    #! Thing to consider - where to initialize variables: at class instance initializaton or at method begining? #######\n",
    "        self.tissue_matrix = np.array(tissue_matrix)\n",
    "        self.nrows, self.ncols = self.tissue_matrix.shape\n",
    "        self.ncells = self.nrows * self.ncols\n",
    "        self._analyze_tissue()\n",
    "        \n",
    "    def plot_tissue(self):\n",
    "        cmap = colors.LinearSegmentedColormap.from_list('custom_bw', ['white', 'black'])\n",
    "        plt.imshow(self.tissue_matrix, cmap=cmap, interpolation='nearest', vmin=0, vmax=1)\n",
    "        plt.title('Tkivo')\n",
    "        ax = plt.gca()\n",
    "        # Set minor ticks at cell edges\n",
    "        ax.set_xticks(np.arange(-0.5, self.ncols, 1), minor=True)\n",
    "        ax.set_yticks(np.arange(-0.5, self.nrows, 1), minor=True)\n",
    "        # Draw gridlines at minor ticks\n",
    "        ax.grid(which='minor', color='red', linestyle='-', linewidth=1)\n",
    "        # Make sure ticks are not shown\n",
    "        ax.tick_params(which='both', bottom=False, left=False, labelbottom=False, labelleft=False)\n",
    "        plt.show()\n",
    "\n",
    "    def _analyze_tissue(self):\n",
    "        self.tumor_positions = np.argwhere(self.tissue_matrix == 1)\n",
    "        self.healthy_positions = np.argwhere(self.tissue_matrix == 0)\n",
    "        self.n_tumor = len(self.tumor_positions)\n",
    "        self.n_healthy = len(self.healthy_positions)\n",
    "        self.n_beams = 2 * (self.nrows + self.ncols)\n",
    "\n",
    "    def prepare_data_for_linprog(self,cell_dose_constr,beam_type='constant', lac=1.0,sim_irr_factors=None):\n",
    "        \"\"\"\n",
    "        Prepare the data for linear programming optimization.\n",
    "        This method creates the necessary matrices and vectors for the optimization problem.\n",
    "        \"\"\"\n",
    "        self.beam_type = beam_type\n",
    "        self.lac = lac\n",
    "        self.simulation_irradiation_factors = sim_irr_factors\n",
    "        self.cell_dose_constr = cell_dose_constr  \n",
    "        self.min_dose_tumor = cell_dose_constr['min_dose_tumor']\n",
    "        self.max_dose_healthy = cell_dose_constr.get('max_dose_healthy', None) # this one is optional\n",
    "        \n",
    "        #* run methods to prepare data for linear programming\n",
    "        self.create_dose_distribution_matrix()\n",
    "        self.define_linprog_inputs()\n",
    "        self.define_linprog_inputs()\n",
    "\n",
    "        return {\n",
    "            \"c_beams\": self.c_beams,\n",
    "            \"A_ub\": self.A_ub,\n",
    "            \"b_ub\": self.b_ub,\n",
    "            \"A_eq\": self.A_eq,\n",
    "            \"b_eq\": self.b_eq,\n",
    "            \"A_tissue\": self.A_tissue,\n",
    "            \"A_tumor\": self.A_tumor,\n",
    "            \"A_healthy\": self.A_healthy,\n",
    "            \"nrows\": self.nrows,\n",
    "            \"ncols\": self.ncols,\n",
    "            \"nbeams\": self.n_beams,\n",
    "            \"ncells\": self.ncells,\n",
    "            \"beam_type\": self.beam_type,\n",
    "            \"tissue_matrix\": self.tissue_matrix,\n",
    "            \"beam_type\": self.beam_type,\n",
    "            \"lac\": self.lac,\n",
    "            # \"simulation_irradiation_factors\": self.simulation_irradiation_factors,\n",
    "            # \"min_dose_tumor\": self.min_dose_tumor,\n",
    "            # \"max_dose_healthy\": self.max_dose_healthy,\n",
    "            # \"delta_kij\": self.delta_kij,\n",
    "            # \"n_tumor\": self.n_tumor,\n",
    "            # \"n_healthy\": self.n_healthy,\n",
    "            # \"tumor_positions\": self.tumor_positions,\n",
    "            # \"healthy_positions\": self.healthy_positions,\n",
    "\n",
    "        }\n",
    "    \n",
    "    def create_dose_distribution_matrix(self):\n",
    "        \"\"\"\n",
    "        Create the 3D dose distribution matrix (delta_kij) for the tissue matrix.\n",
    "        Uses N_rows and N_cols from the notebook variables if available.\n",
    "        Returns a numpy array of shape (N_beams, N_rows, N_cols).\n",
    "        \"\"\"\n",
    "        # Use N_rows and N_cols from notebook if available, else from self\n",
    "        nrows = self.nrows\n",
    "        ncols = self.ncols\n",
    "        n_beams = self.n_beams\n",
    "        delta_kij = np.zeros((n_beams, nrows, ncols), dtype=float)\n",
    "\n",
    "        # Fill delta_kij for all beams in a single loop, separating beam_type only once\n",
    "        if self.beam_type == 'constant':\n",
    "            print(\"Using constant intensity beam model.\")\n",
    "            # Left beams (rows)\n",
    "            for i in range(nrows):\n",
    "                for j in range(ncols):\n",
    "                    delta_kij[i, i, j] = 1.0\n",
    "            # Right beams (rows)\n",
    "            for i in range(nrows):\n",
    "                for j in range(ncols):\n",
    "                    delta_kij[nrows + i, i, j] = 1.0\n",
    "            # Top beams (cols)\n",
    "            for j in range(ncols):\n",
    "                for i in range(nrows):\n",
    "                    delta_kij[2 * nrows + j, i, j] = 1.0\n",
    "            # Bottom beams (cols)\n",
    "            for j in range(ncols):\n",
    "                for i in range(nrows):\n",
    "                    delta_kij[2 * nrows + ncols + j, i, j] = 1.0\n",
    "        \n",
    "        elif self.beam_type == 'exponential':\n",
    "            print(\"Using exponential intensity beam model with linear attenuation coefficient (lac):\", self.lac, \"/cm\")\n",
    "            lac = self.lac\n",
    "            # Left beams (rows)\n",
    "            for i in range(nrows):\n",
    "                for j in range(ncols):\n",
    "                    delta_kij[i, i, j] = np.exp(-lac * j)\n",
    "            # Right beams (rows)\n",
    "            for i in range(nrows):\n",
    "                for j in range(ncols):\n",
    "                    delta_kij[nrows + i, i, j] = np.exp(-lac * (ncols - j - 1))\n",
    "            # Top beams (cols)\n",
    "            for j in range(ncols):\n",
    "                for i in range(nrows):\n",
    "                    delta_kij[2 * nrows + j, i, j] = np.exp(-lac * i)\n",
    "            # Bottom beams (cols)\n",
    "            for j in range(ncols):\n",
    "                for i in range(nrows):\n",
    "                    delta_kij[2 * nrows + ncols + j, i, j] = np.exp(-lac * (nrows - i - 1))\n",
    "        \n",
    "        elif self.beam_type == 'simulated':\n",
    "            print(\"Using beam from self simulated data for energy deposition distribution.\")\n",
    "            # Simulated beams logic would go here, similar to the above but using simulated data\n",
    "            # For now, we will just fill with zeros as a placeholder\n",
    "            if self.simulation_irradiation_factors is None:\n",
    "                raise ValueError(\"Simulation_irradiation_factors must be provided for 'simulated' beam type.\")\n",
    "            delta_kij = self.simulation_irradiation_factors\n",
    "\n",
    "        elif self.beam_type in ['proton', 'neutron', 'electron', 'other_stuff']:\n",
    "            raise NotImplementedError(f\"Beam type '{self.beam_type}' is not implemented yet.\")\n",
    "        else:\n",
    "            raise ValueError(f\"Unknown beam_type: {self.beam_type}\")\n",
    "\n",
    "        # at the end, make delta_kij factors matrix an attribute\n",
    "        self.delta_kij = delta_kij\n",
    "\n",
    "    def define_linprog_inputs(self):\n",
    "        self.c_beams = np.zeros(self.n_beams, dtype=float)\n",
    "        self.A_tissue = np.zeros((self.ncells, self.n_beams))\n",
    "        self.A_tumor = []\n",
    "        self.A_healthy = []\n",
    "        self.A_eq = None\n",
    "        self.b_eq = None\n",
    "\n",
    "        # define c_beams\n",
    "        for i in range(self.n_beams):\n",
    "            self.c_beams[i] = np.sum(self.delta_kij[i, self.tissue_matrix == 0])  # Sum over healthy cells for constant beam\n",
    "        # define A_tissue\n",
    "        for idx in range(self.ncells):\n",
    "            i = idx // self.ncols\n",
    "            j = idx % self.ncols\n",
    "            row = np.zeros(self.n_beams, dtype=float)\n",
    "            for k in range(self.n_beams):\n",
    "                row[k] = self.delta_kij[k, i, j]\n",
    "            self.A_tissue[idx] = row\n",
    "            if self.tissue_matrix[i, j] == 1:\n",
    "                self.A_tumor.append(row)\n",
    "            else:\n",
    "                self.A_healthy.append(row)\n",
    "        \n",
    "        #* define A_eq and b_eq if constant beam type - because we cancel beams from the right and bottom\n",
    "        if self.beam_type == 'constant':\n",
    "            # add A_eq for dead beams (set right and bottom beams to zero)\n",
    "            dead_beams_matrix = np.zeros((self.nrows + self.ncols, self.n_beams), dtype=int)\n",
    "            for i in range(self.nrows):\n",
    "                dead_beams_matrix[i, self.nrows + i] = 1  # right beams\n",
    "            for j in range(self.ncols):\n",
    "                dead_beams_matrix[self.nrows + j, 2 * self.nrows + self.ncols + j] = 1  # bottom beams\n",
    "            self.A_eq = dead_beams_matrix\n",
    "            self.b_eq = np.zeros(self.nrows + self.ncols)\n",
    "\n",
    "        self.A_tumor = np.array(self.A_tumor)\n",
    "        self.A_healthy = np.array(self.A_healthy)\n",
    "        \n",
    "        #* define A_upper_bound - just A_tumor and b_ub, but both with minus as we minimize!\n",
    "        self.A_ub = -np.array(self.A_tumor)  # MINUS!!!\n",
    "        self.b_ub = -np.ones(self.n_tumor) * self.min_dose_tumor  # MINUS!!!\n",
    "        \n",
    "        #* add A_healthy and extend b_ub if max dose to H cells is prescribed\n",
    "        if self.max_dose_healthy is not None:\n",
    "            self.A_ub = np.vstack((self.A_ub, self.A_healthy))\n",
    "            self.b_ub = np.concatenate((self.b_ub, np.ones(self.n_healthy) * self.max_dose_healthy))\n",
    "            \n"
   ]
  },
  {
   "cell_type": "code",
   "execution_count": null,
   "id": "28d23be1",
   "metadata": {},
   "outputs": [],
   "source": [
    "class TissueIrradiationOptimizer:\n",
    "    def __init__(self, problem_parameters):\n",
    "        self.problem_parameters = problem_parameters\n",
    "        self.optimized = False\n",
    "\n",
    "        # extract parameters from problem_parameters\n",
    "        # fixme: this could be inherited from TissueIrradiationProblem class; explore!\n",
    "        self.nrows = problem_parameters[\"nrows\"]\n",
    "        self.ncols = problem_parameters[\"ncols\"]\n",
    "        self.ncells = self.nrows * self.ncols\n",
    "        self.nbeams = 2 * (self.nrows + self.ncols)\n",
    "        self.tissue_matrix = problem_parameters[\"tissue_matrix\"]\n",
    "        self.c_beams = problem_parameters[\"c_beams\"]\n",
    "        self.A_tissue = problem_parameters.get(\"A_tissue\", None)\n",
    "        self.A_tumor = problem_parameters.get(\"A_tumor\", None)\n",
    "        self.A_healthy = problem_parameters.get(\"A_healthy\", None)\n",
    "        self.A_ub = problem_parameters[\"A_ub\"]\n",
    "        self.b_ub = problem_parameters[\"b_ub\"]\n",
    "        self.A_eq = problem_parameters.get(\"A_eq\", None)\n",
    "        self.b_eq = problem_parameters.get(\"b_eq\", None)\n",
    "        self.beam_type = problem_parameters[\"beam_type\"]\n",
    "        self.lac = problem_parameters.get(\"lac\", 1.0)\n",
    "\n",
    "        #self.optimal_beam_intensities = None\n",
    "        self.optimal_beam_intensities = np.zeros(self.nbeams)  # Initialize with zeros\n",
    "        self.DH_tot = -99\n",
    "\n",
    "    def optimize(self, doReport=False):        \n",
    "        self.result = linprog(c=self.c_beams, A_ub=self.A_ub, b_ub=self.b_ub, method='highs',A_eq=self.A_eq, b_eq=self.b_eq)\n",
    "\n",
    "        if self.result.success:\n",
    "            self.optimal_beam_intensities = self.result.x\n",
    "            self.DH_tot = self.result.fun\n",
    "            self.optimized = True\n",
    "            if doReport:\n",
    "                print(\"Optimization successful.\")\n",
    "                print(\"Optimal value:\", self.result.fun)\n",
    "                print(\"Optimal solution:\", self.result.x)\n",
    "            # calculate dose distribution\n",
    "            self.calculate_dose_distribution()\n",
    "        else:\n",
    "            print(\"Optimization failed:\", self.result.message)\n",
    "\n",
    "    def calculate_dose_distribution(self):\n",
    "        if not self.optimized:\n",
    "            print(\"Run optimize() first.\")\n",
    "            return\n",
    "        self.tissue_dose_matrix = self.A_tissue @ self.optimal_beam_intensities.reshape(-1, 1) # reshape: make a column out of line\n",
    "        self.tissue_dose_matrix = self.tissue_dose_matrix.reshape(self.nrows, self.ncols) # reshape to tissue matrix shape\n",
    "\n",
    "    def plot_dose_distribution(self):\n",
    "        if not self.optimized:\n",
    "            print(\"Run optimize() first.\")\n",
    "            return\n",
    "\n",
    "        fig, ax = plt.subplots(figsize=(4, 4))\n",
    "        cmap = colors.LinearSegmentedColormap.from_list('custom_bw', ['white', 'black'])\n",
    "        im = ax.imshow(self.tissue_dose_matrix, cmap=cmap, interpolation='nearest', \n",
    "                       vmin=np.min(self.tissue_dose_matrix), vmax=np.max(self.tissue_dose_matrix),\n",
    "                       extent=[-0.5, self.ncols-0.5, self.nrows-0.5, -0.5])\n",
    "\n",
    "        # Draw grid lines for cells (only at cell boundaries)\n",
    "        ax.set_xticks(np.arange(-0.5, self.ncols, 1), minor=True)\n",
    "        ax.set_yticks(np.arange(-0.5, self.nrows, 1), minor=True)\n",
    "        ax.grid(which='minor', color='black', linestyle='-', linewidth=1, alpha=0.5)\n",
    "        ax.set_xlim(-0.5, self.ncols-0.5)\n",
    "        ax.set_ylim(self.nrows-0.5, -0.5)\n",
    "\n",
    "        # Annotate each cell with its dose (if nonzero)\n",
    "        for i in range(self.nrows):\n",
    "            for j in range(self.ncols):\n",
    "                dose = self.tissue_dose_matrix[i, j]\n",
    "                if dose > 0:\n",
    "                    ax.text(j, i, f\"{dose:.0f}\", ha='center', va='center', color='red', fontsize=12, fontweight='bold')\n",
    "\n",
    "        # Highlight tumor cells with red edges\n",
    "        tumor_mask = (self.tissue_matrix == 1)\n",
    "        for (i, j) in np.argwhere(tumor_mask):\n",
    "            rect = plt.Rectangle((j-0.5, i-0.5), 1, 1, linewidth=2, edgecolor='red', facecolor='none')\n",
    "            ax.add_patch(rect)\n",
    "\n",
    "        plt.title('Porazdelitev doze po tkivu')\n",
    "        plt.xticks([])\n",
    "        plt.yticks([])\n",
    "        plt.tight_layout()\n",
    "        plt.show()\n",
    "\n",
    "    def plot_irradiation_scheme(self):\n",
    "        if not self.optimized:\n",
    "            print(\"Run optimize() first.\")\n",
    "            return\n",
    "\n",
    "        fig, ax = plt.subplots(figsize=(6, 6))\n",
    "        cmap = colors.LinearSegmentedColormap.from_list('custom_bw', ['white', 'black'])\n",
    "        im = ax.imshow(self.tissue_dose_matrix, cmap=cmap, interpolation='nearest', \n",
    "                       vmin=np.min(self.tissue_dose_matrix), vmax=np.max(self.tissue_dose_matrix),\n",
    "                       extent=[-0.5, self.ncols-0.5, self.nrows-0.5, -0.5])\n",
    "\n",
    "        # Draw grid lines for cells (only at cell boundaries)\n",
    "        ax.set_xticks(np.arange(-0.5, self.ncols, 1), minor=True)\n",
    "        ax.set_yticks(np.arange(-0.5, self.nrows, 1), minor=True)\n",
    "        ax.grid(which='minor', color='black', linestyle='-', linewidth=1, alpha=0.5)\n",
    "        ax.set_xlim(-0.5, self.ncols-0.5)\n",
    "        ax.set_ylim(self.nrows-0.5, -0.5)\n",
    "\n",
    "        # Annotate each cell with its dose (if nonzero)\n",
    "        for i in range(self.nrows):\n",
    "            for j in range(self.ncols):\n",
    "                dose = self.tissue_dose_matrix[i, j]\n",
    "                if dose > 0:\n",
    "                    ax.text(j, i, f\"{dose:.0f}\", ha='center', va='center', color='red', fontsize=12, fontweight='bold')\n",
    "\n",
    "        # Highlight tumor cells with red edges\n",
    "        tumor_mask = (self.tissue_matrix == 1)\n",
    "        for (i, j) in np.argwhere(tumor_mask):\n",
    "            rect = plt.Rectangle((j-0.5, i-0.5), 1, 1, linewidth=4, edgecolor='darkred', facecolor='none')\n",
    "            ax.add_patch(rect)\n",
    "\n",
    "        # Highlight tissue edges\n",
    "        ax.plot([-0.5, self.ncols-0.5], [-0.5, -0.5], color='black', linewidth=2)\n",
    "        ax.plot([-0.5, self.ncols-0.5], [self.nrows-0.5, self.nrows-0.5], color='black', linewidth=2)\n",
    "        ax.plot([-0.5, -0.5], [-0.5, self.nrows-0.5], color='black', linewidth=2)\n",
    "        ax.plot([self.ncols-0.5, self.ncols-0.5], [-0.5, self.nrows-0.5], color='black', linewidth=2)\n",
    "        \n",
    "        # Draw beams: horizontal (rows) and vertical (cols) with smaller arrows at the edges\n",
    "        arrow_length = 0.7\n",
    "        arrow_head_width = 0.12\n",
    "        arrow_head_length = 0.12\n",
    "        ## beam intensities from left and right directions\n",
    "        for beam_idx in range(self.nrows):\n",
    "            intensity_left = self.optimal_beam_intensities[beam_idx]\n",
    "            intensity_right = self.optimal_beam_intensities[self.nrows + beam_idx]\n",
    "            if intensity_left > 0:\n",
    "                # Left edge arrow for row beams\n",
    "                ax.arrow(-0.9, beam_idx, arrow_length, 0, head_width=arrow_head_width, head_length=arrow_head_length,\n",
    "                         fc='blue', ec='blue', linewidth=1.2, length_includes_head=True, zorder=10)\n",
    "                ax.text(-0.9, beam_idx, f\"{intensity_left:.0f}\", va='center', ha='right', color='blue', fontsize=11)\n",
    "            if intensity_right > 0:\n",
    "                # Right edge arrow for row beams\n",
    "                ax.arrow(self.ncols-0.2, beam_idx, -arrow_length, 0, head_width=arrow_head_width, head_length=arrow_head_length,\n",
    "                         fc='blue', ec='blue', linewidth=1.2, length_includes_head=True, zorder=10)\n",
    "                ax.text(self.ncols-0.3, beam_idx, f\"{intensity_right:.0f}\", va='center', ha='left', color='blue', fontsize=11)\n",
    "        \n",
    "        # intensities from top and bottom directions\n",
    "        for beam_idx in range(self.ncols):\n",
    "            intensity_top = self.optimal_beam_intensities[2*self.nrows + beam_idx]\n",
    "            intensity_bottom = self.optimal_beam_intensities[2*self.nrows + self.ncols + beam_idx]\n",
    "            if intensity_top > 0:\n",
    "                # Top edge arrow for column beams\n",
    "                ax.arrow(beam_idx, -0.9, 0, arrow_length, head_width=arrow_head_width, head_length=arrow_head_length,\n",
    "                         fc='green', ec='green', linewidth=1.2, length_includes_head=True, zorder=10)\n",
    "                ax.text(beam_idx, -0.7, f\"{intensity_top:.0f}\", va='bottom', ha='center', color='green', fontsize=11)\n",
    "            if intensity_bottom > 0:\n",
    "                # Bottom edge arrow for column beams\n",
    "                ax.arrow(beam_idx, self.nrows-0.3, 0, arrow_length, head_width=arrow_head_width, head_length=arrow_head_length,\n",
    "                         fc='green', ec='green', linewidth=1.2, length_includes_head=True, zorder=10)\n",
    "                ax.text(beam_idx, self.nrows-0.3, f\"{intensity_bottom:.0f}\", va='top', ha='center', color='green', fontsize=11)\n",
    "\n",
    "        if self.beam_type == 'constant':\n",
    "            beam_type_message = \"konstantna intenziteta\"\n",
    "        elif self.beam_type == 'exponential':\n",
    "            lambda_sign = 'λ'\n",
    "            beam_type_message = f\"eksponentna intenziteta ({lambda_sign}={1/self.lac} celica)\"\n",
    "        elif self.beam_type == 'simulated':\n",
    "            beam_type_message = \"simulirana intenziteta\"\n",
    "        plt.title(f'Obsevalni načrt in dozna porazdelitev\\n{beam_type_message}')\n",
    "        plt.xticks([])\n",
    "        plt.yticks([])\n",
    "        plt.tight_layout()\n",
    "        plt.show()\n",
    "\n",
    "    def report_statistics(self):\n",
    "        print(\"Statistics:\")\n",
    "        if not hasattr(self, 'tissue_dose_matrix'): \n",
    "            print(\"Run calculate_dose_distribution() first.\")\n",
    "            return  \n",
    "        tumor_mask = (self.tissue_matrix == 1)\n",
    "        healthy_mask = (self.tissue_matrix == 0)\n",
    "        avg_dose_tumor = self.tissue_dose_matrix[tumor_mask].mean() if np.any(tumor_mask) else 0\n",
    "        avg_dose_healthy = self.tissue_dose_matrix[healthy_mask].mean() if np.any(healthy_mask) else 0\n",
    "        print(f\"Average dose to tumor cells: {avg_dose_tumor:.2f}\")\n",
    "        print(f\"Average dose to healthy cells: {avg_dose_healthy:.2f}\")\n",
    "\n"
   ]
  },
  {
   "cell_type": "code",
   "execution_count": 47,
   "id": "31bb64aa",
   "metadata": {},
   "outputs": [
    {
     "name": "stdout",
     "output_type": "stream",
     "text": [
      "---------------Beam type chosen: exponential-------------------\n"
     ]
    },
    {
     "data": {
      "image/png": "[encoded data removed]",
      "text/plain": [
       "<Figure size 640x480 with 1 Axes>"
      ]
     },
     "metadata": {},
     "output_type": "display_data"
    }
   ],
   "source": [
    "# test the class\n",
    "tissue_matrix_5by5 = np.array([[0, 0, 0, 0, 0],\n",
    "                           [0, 0, 1, 0, 0],   \n",
    "                           [0, 1, 1, 1, 0],\n",
    "                           [0, 1, 1, 0, 0],\n",
    "                           [0, 0, 0, 0, 0]])\n",
    "\n",
    "tissue_matrix_3by3 = np.array([[0, 0, 0,],\n",
    "                           [0, 1, 0],\n",
    "                           [0,1,1]])\n",
    "\n",
    "tissue_matrix_2by2 =  np.array([[0, 0],\n",
    "                               [1, 0]])\n",
    "\n",
    "tissue_matrix = tissue_matrix_3by3  # choose one of the matrices above\n",
    "\n",
    "\n",
    "# upscale matrix\n",
    "upscale_factor = 1\n",
    "tissue_matrix = upscale_matrix(tissue_matrix, upscale_factor)\n",
    "\n",
    "# parameters\n",
    "MinDoseTumor = 100  # minimum dose to tumor cells\n",
    "MaxDoseHealthy = None # maximum dose to healthy cells (optional, can be None)\n",
    "cell_dose_constr = {\n",
    "    'min_dose_tumor': MinDoseTumor,\n",
    "    'max_dose_healthy': MaxDoseHealthy\n",
    "}\n",
    "mean_free_path = 1 * upscale_factor # mfp in terms of cells, eg 2 cells, multiply by uscale_factor if supcaled matrix\n",
    "lac = 1.0 / mean_free_path  # linear attenuation coefficient in 1/cell\n",
    "SIF = None\n",
    "\n",
    "##### choose beam type\n",
    "beam_type = ['constant','exponential','simulated'][1]  # choose beam type: 'constant', 'exponential', or 'simulated'\n",
    "print(f\"---------------Beam type chosen: {beam_type}-------------------\")\n",
    "if beam_type == 'simulated':\n",
    "    tissue_dimension_simulated = SIF_expanded.shape[0] // 4  # number of rows or columns in the simulated tissue matrix\n",
    "    if tissue_dimension_simulated == tissue_matrix.shape[0]:\n",
    "        print(\"Tissue shape for 'simulated' beam type is correct.\")\n",
    "    else:\n",
    "        raise ValueError(f\"Tissue shape for 'simulated' beam type should be {tissue_dimension_simulated}x{tissue_dimension_simulated}, but got {tissue_matrix.shape[0]}x{tissue_matrix.shape[1]}.\")\n",
    "\n",
    "\n",
    "\n",
    "# create a problem instance\n",
    "problem = TissueIrradiationProblem(tissue_matrix)\n",
    "# plot the tissue matrix\n",
    "problem.plot_tissue()\n",
    "\n"
   ]
  },
  {
   "cell_type": "code",
   "execution_count": 48,
   "id": "d8ef5b6c",
   "metadata": {},
   "outputs": [
    {
     "name": "stdout",
     "output_type": "stream",
     "text": [
      "Using exponential intensity beam model with linear attenuation coefficient (lac): 1.0 /cm\n"
     ]
    }
   ],
   "source": [
    "# prepare data for linear programming\n",
    "ProblemParameters = problem.prepare_data_for_linprog(cell_dose_constr, beam_type=beam_type, lac=lac, sim_irr_factors=SIF_expanded)\n",
    "\n",
    "#ProblemParameters\n"
   ]
  },
  {
   "cell_type": "markdown",
   "id": "f07ac3bc",
   "metadata": {},
   "source": [
    "optimization time"
   ]
  },
  {
   "cell_type": "code",
   "execution_count": 49,
   "id": "ec7439b8",
   "metadata": {},
   "outputs": [
    {
     "name": "stdout",
     "output_type": "stream",
     "text": [
      "Optimization successful.\n",
      "Optimal value: 50.32147244080551\n",
      "Optimal solution: [  0.           0.           0.           0.           0.\n",
      " 100.           0.           0.           0.           0.\n",
      " 271.82818285   0.        ]\n",
      "\n",
      "Dose Distribution Matrix:\n",
      "[[  0.          36.78794412   0.        ]\n",
      " [  0.         100.           0.        ]\n",
      " [ 13.53352832 308.61612696 100.        ]]\n"
     ]
    }
   ],
   "source": [
    "# optimize class\n",
    "optimizer = TissueIrradiationOptimizer(ProblemParameters)\n",
    "# run optimization\n",
    "report = [False, True] [1]\n",
    "optimizer.optimize(doReport=report)\n",
    "\n",
    "# calculate dose distribution\n",
    "TissueDoseDistribution = optimizer.tissue_dose_matrix\n",
    "\n",
    "print(\"\\nDose Distribution Matrix:\")\n",
    "print(TissueDoseDistribution)\n"
   ]
  },
  {
   "cell_type": "markdown",
   "id": "2e2b6b45",
   "metadata": {},
   "source": [
    "plot and statistics"
   ]
  },
  {
   "cell_type": "code",
   "execution_count": 50,
   "id": "e192f0cb",
   "metadata": {},
   "outputs": [
    {
     "data": {
      "image/png": "[encoded data removed]",
      "text/plain": [
       "<Figure size 400x400 with 1 Axes>"
      ]
     },
     "metadata": {},
     "output_type": "display_data"
    },
    {
     "data": {
      "image/png": "[encoded data removed]",
      "text/plain": [
       "<Figure size 600x600 with 1 Axes>"
      ]
     },
     "metadata": {},
     "output_type": "display_data"
    },
    {
     "name": "stdout",
     "output_type": "stream",
     "text": [
      "Statistics:\n",
      "Average dose to tumor cells: 169.54\n",
      "Average dose to healthy cells: 8.39\n"
     ]
    }
   ],
   "source": [
    "optimizer.plot_dose_distribution()\n",
    "optimizer.plot_irradiation_scheme()\n",
    "# calculate statistics\n",
    "optimizer.report_statistics()"
   ]
  },
  {
   "cell_type": "markdown",
   "id": "e75196bd",
   "metadata": {},
   "source": [
    "----------"
   ]
  },
  {
   "cell_type": "markdown",
   "id": "c33a0af3",
   "metadata": {},
   "source": [
    "Finish"
   ]
  },
  {
   "cell_type": "markdown",
   "id": "0155f76d",
   "metadata": {},
   "source": [
    "---------------\n",
    "-----------------\n"
   ]
  }
 ],
 "metadata": {
  "kernelspec": {
   "display_name": "base",
   "language": "python",
   "name": "python3"
  },
  "language_info": {
   "codemirror_mode": {
    "name": "ipython",
    "version": 3
   },
   "file_extension": ".py",
   "mimetype": "text/x-python",
   "name": "python",
   "nbconvert_exporter": "python",
   "pygments_lexer": "ipython3",
   "version": "3.11.7"
  }
 },
 "nbformat": 4,
 "nbformat_minor": 5
}
