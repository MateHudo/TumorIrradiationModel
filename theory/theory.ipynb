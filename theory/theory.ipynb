{
 "cells": [
  {
   "cell_type": "markdown",
   "id": "0dd83051",
   "metadata": {},
   "source": [
    "Theory"
   ]
  },
  {
   "cell_type": "code",
   "execution_count": null,
   "id": "b28c40db",
   "metadata": {},
   "outputs": [],
   "source": [
    "\"\"\"\n",
    "# Tissue matrix representing tumor and healthy cells\n",
    "- 0 = healthy cell\n",
    "- 1 = tumor cell\n",
    "\"\"\"\n",
    "\n",
    "\"\"\"\n",
    "Lets explain in more detail how we will use linear programming to solve this problem:\n",
    "1. We are irradiatin tissue matrix with radiation beams. \n",
    "2. Tissue shape is (at least for now) rectangular matrix with rows and columns - (Nrows, Ncols).\n",
    "3. Beams are narrow (\"pencil-like\") and can be placed along rows and columns of the matrix.\n",
    "4. Each beam will irradiate all cells in its row and column - and nothing else (no scatter ect).\n",
    "5. Beams in our first example are placed only left from and above the tumor cells - so we have Nrows + Ncols beams. \n",
    "5. We will use linear programming to optimize the beam intensities such that:\n",
    "    - tumor cells receive at least a minimum dose of radiation (MinDoseTumorCells) \n",
    "    - healthy cells receive no more than a maximum dose of radiation (MaxDoseHealthyCells)\n",
    "6. The objective function will minimize the total dose to healthy cells, which is represented by the cost function coefficients (c vector).\n",
    "7. The constraints will ensure that tumor cells receive the required minimum dose and healthy cells do not exceed the maximum dose.\n",
    "8. We are searching for beam intensities that satisfy these conditions, lets denote them as BeamIntensities.\n",
    "9. BeamIntensities will be a vector of length Nrows + Ncols, where each element represents the intensity of a beam.\n",
    "10. The solution will provide the optimal beam intensities that satisfy these conditions.\n",
    "\"\"\"\n"
   ]
  },
  {
   "cell_type": "markdown",
   "id": "640d6cca",
   "metadata": {},
   "source": [
    "Intermezzo:\n",
    " - the system seems to be much underdetermined\n",
    " - there are 4N beams = parameters\n",
    " - for them, only as many equations as there are tumor cells, unless we add aditional conditions\n",
    " - if N_tumor < 4N, --> underdetermined system\n",
    " -\n",
    " [[Was talking to ChatGPT and it pointed out this, so something big to consider]]"
   ]
  },
  {
   "cell_type": "code",
   "execution_count": null,
   "id": "307cca9b",
   "metadata": {},
   "outputs": [],
   "source": []
  }
 ],
 "metadata": {
  "kernelspec": {
   "display_name": "base",
   "language": "python",
   "name": "python3"
  },
  "language_info": {
   "name": "python",
   "version": "3.11.7"
  }
 },
 "nbformat": 4,
 "nbformat_minor": 5
}
